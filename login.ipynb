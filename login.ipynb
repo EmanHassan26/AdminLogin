{
 "cells": [
  {
   "cell_type": "code",
   "execution_count": 10,
   "metadata": {},
   "outputs": [
    {
     "name": "stdout",
     "output_type": "stream",
     "text": [
      "Your name please : Rana\n",
      "U are not admin\n",
      "Add Y as admin Required password from Hr manager \n",
      "UR Password PLZ : 0f4\n",
      "U are added <3\n",
      "Welcome Rana in Admins Group\n"
     ]
    }
   ],
   "source": [
    "admin = [\"Ali\", \"Sami\" ,\"Jaber\" ,\"Eman\" ,\"nawaf\"]\n",
    "password = [\"0f1\" ,\"0f2\" ,\"0f3\" ,\"0f4\" ,\"0f5\"]\n",
    "\n",
    "name = input(\"Your name please : \").capitalize().strip()\n",
    "if name in admin :\n",
    "    print(f\"Hi {name} , you are admin \")\n",
    "    option = input(\"Update or Delete Your Name ? \").capitalize()\n",
    "    if option == \"Update\" :\n",
    "        newname = input(\"Your newName , Please :\")\n",
    "        admin[admin.index(name)] = newname\n",
    "        print(\"Your Name Is Updated >3 \")\n",
    "        print(admin)\n",
    "    elif option == \"Delete\" :\n",
    "        check=int(input(f\"U wanna DELETE UR NAME ; {name} ? confirm=1 reject=0 :\"))\n",
    "        if check == 1 :\n",
    "            admin.remove(name)\n",
    "            print(\"Delete Done >3 \")\n",
    "        elif check == 0 : \n",
    "            print(\"Happy Login check what U wanna do <3 \")\n",
    "else:\n",
    "        print(\"U are not admin\")\n",
    "        print(\"Add Y as admin Required password from Hr manager \")\n",
    "        pas = input(\"UR Password PLZ : \")\n",
    "        if pas in password :\n",
    "            admin.append(name) \n",
    "            print(\"U are added <3\")\n",
    "            print(f\"Welcome {name} in Admins Group\")\n",
    "        else :\n",
    "            print(\"ERROR ... YOU ARE NOT ALLOWED TO ACCESS , YOUR PASSWORD IS NOT CORRECT :(\")\n",
    "        \n",
    "        "
   ]
  },
  {
   "cell_type": "code",
   "execution_count": null,
   "metadata": {},
   "outputs": [],
   "source": []
  },
  {
   "cell_type": "code",
   "execution_count": null,
   "metadata": {},
   "outputs": [],
   "source": []
  }
 ],
 "metadata": {
  "kernelspec": {
   "display_name": "Python 3",
   "language": "python",
   "name": "python3"
  },
  "language_info": {
   "codemirror_mode": {
    "name": "ipython",
    "version": 3
   },
   "file_extension": ".py",
   "mimetype": "text/x-python",
   "name": "python",
   "nbconvert_exporter": "python",
   "pygments_lexer": "ipython3",
   "version": "3.7.4"
  }
 },
 "nbformat": 4,
 "nbformat_minor": 2
}
